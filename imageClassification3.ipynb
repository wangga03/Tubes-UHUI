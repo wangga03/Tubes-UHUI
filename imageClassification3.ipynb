{
 "cells": [
  {
   "cell_type": "code",
   "execution_count": 3,
   "id": "60fd5883",
   "metadata": {},
   "outputs": [],
   "source": [
    "import os\n",
    "import pickle\n",
    "from keras_facenet import FaceNet\n",
    "import cv2\n",
    "from sklearn.neighbors import KNeighborsClassifier\n",
    "import numpy as np\n",
    "import imgaug.augmenters as iaa\n",
    "import sys\n",
    "import contextlib\n",
    "\n",
    "# Suppress output Keras\n",
    "@contextlib.contextmanager\n",
    "def suppress_stdout():\n",
    "    with open(os.devnull, \"w\") as devnull:\n",
    "        old_stdout = sys.stdout\n",
    "        sys.stdout = devnull\n",
    "        try:\n",
    "            yield\n",
    "        finally:\n",
    "            sys.stdout = old_stdout\n"
   ]
  },
  {
   "cell_type": "code",
   "execution_count": null,
   "id": "751704ee",
   "metadata": {},
   "outputs": [
    {
     "name": "stderr",
     "output_type": "stream",
     "text": [
      "2025-06-17 01:40:40.461624: E tensorflow/stream_executor/cuda/cuda_driver.cc:265] failed call to cuInit: CUDA_ERROR_NO_DEVICE: no CUDA-capable device is detected\n",
      "2025-06-17 01:40:40.461663: I tensorflow/stream_executor/cuda/cuda_diagnostics.cc:156] kernel driver does not appear to be running on this host (wgg-OMEN-by-HP-Laptop-15-dc1xxx): /proc/driver/nvidia/version does not exist\n",
      "2025-06-17 01:40:40.462067: I tensorflow/core/platform/cpu_feature_guard.cc:193] This TensorFlow binary is optimized with oneAPI Deep Neural Network Library (oneDNN) to use the following CPU instructions in performance-critical operations:  AVX2 FMA\n",
      "To enable them in other operations, rebuild TensorFlow with the appropriate compiler flags.\n"
     ]
    },
    {
     "name": "stdout",
     "output_type": "stream",
     "text": [
      "Total data setelah augmentasi: (1136, 512) (1136,)\n",
      "Model KNN berhasil disimpan di: /home/wgg/Tubes_AI/HASIL_FACENET/knn_facenet_aug2.pkl\n"
     ]
    }
   ],
   "source": [
    "# ----- SETTING PATH -----\n",
    "base_dir = '/home/wgg/Tubes_AI/dataset3'   # Folder dataset\n",
    "pkl_path = '/home/wgg/Tubes_AI/HASIL_FACENET/knn_facenet_aug3.pkl'  # Output model\n",
    "\n",
    "embedder = FaceNet()\n",
    "X, y = [], []\n",
    "\n",
    "# Augmentasi: flip, rotasi, brightness, blur, hue\n",
    "seq = iaa.Sequential([\n",
    "    iaa.Fliplr(0.5),\n",
    "    iaa.Affine(rotate=(-10, 10)),\n",
    "    iaa.Multiply((0.8, 1.2)),\n",
    "    iaa.AddToHueAndSaturation((-10, 10)),\n",
    "    iaa.GaussianBlur(sigma=(0, 1.0)),\n",
    "])\n",
    "\n",
    "# Proses ekstraksi embedding + augmentasi\n",
    "for label in os.listdir(base_dir):\n",
    "    folder = os.path.join(base_dir, label)\n",
    "    for file in os.listdir(folder):\n",
    "        img_path = os.path.join(folder, file)\n",
    "        img = cv2.imread(img_path)\n",
    "        if img is None:\n",
    "            continue\n",
    "        img = cv2.cvtColor(img, cv2.COLOR_BGR2RGB)\n",
    "        img = cv2.resize(img, (160, 160))\n",
    "        with suppress_stdout():\n",
    "            emb = embedder.embeddings([img])[0]\n",
    "        X.append(emb)\n",
    "        y.append(label)\n",
    "        for _ in range(3):  # augmentasi 3x per gambar\n",
    "            aug_img = seq(image=img)\n",
    "            with suppress_stdout():\n",
    "                aug_emb = embedder.embeddings([aug_img])[0]\n",
    "            X.append(aug_emb)\n",
    "            y.append(label)\n",
    "\n",
    "X = np.array(X)\n",
    "y = np.array(y)\n",
    "\n",
    "print(\"Total data setelah augmentasi:\", X.shape, y.shape)\n",
    "\n",
    "# Training KNN\n",
    "knn = KNeighborsClassifier(n_neighbors=3, metric='euclidean')\n",
    "knn.fit(X, y)\n",
    "\n",
    "# Simpan model\n",
    "with open(pkl_path, 'wb') as f:\n",
    "    pickle.dump(knn, f)\n",
    "print(f\"Model KNN berhasil disimpan di: {pkl_path}\")"
   ]
  },
  {
   "cell_type": "code",
   "execution_count": 5,
   "id": "e84968d7",
   "metadata": {},
   "outputs": [
    {
     "data": {
      "image/png": "[encoded data removed]",
      "text/plain": [
       "<Figure size 640x480 with 2 Axes>"
      ]
     },
     "metadata": {},
     "output_type": "display_data"
    },
    {
     "name": "stdout",
     "output_type": "stream",
     "text": [
      "Classification Report:\n",
      "               precision    recall  f1-score   support\n",
      "\n",
      "         jak       1.00      1.00      1.00        72\n",
      "  orang_lain       1.00      1.00      1.00        67\n",
      "         wgg       1.00      1.00      1.00        89\n",
      "\n",
      "    accuracy                           1.00       228\n",
      "   macro avg       1.00      1.00      1.00       228\n",
      "weighted avg       1.00      1.00      1.00       228\n",
      "\n",
      "Akurasi test set: 100.00%\n"
     ]
    }
   ],
   "source": [
    "from sklearn.metrics import confusion_matrix, ConfusionMatrixDisplay, classification_report\n",
    "import matplotlib.pyplot as plt\n",
    "\n",
    "# Split manual: 80% train, 20% test (atau sesuai kebutuhan)\n",
    "from sklearn.model_selection import train_test_split\n",
    "\n",
    "X_train, X_test, y_train, y_test = train_test_split(\n",
    "    X, y, test_size=0.2, random_state=42, stratify=y\n",
    ")\n",
    "\n",
    "knn = KNeighborsClassifier(n_neighbors=3, metric='euclidean')\n",
    "knn.fit(X_train, y_train)\n",
    "\n",
    "# Prediksi test\n",
    "y_pred = knn.predict(X_test)\n",
    "\n",
    "# Confusion matrix\n",
    "cm = confusion_matrix(y_test, y_pred, labels=np.unique(y))\n",
    "disp = ConfusionMatrixDisplay(confusion_matrix=cm, display_labels=np.unique(y))\n",
    "disp.plot(cmap='Blues', values_format='d')\n",
    "plt.title('Confusion Matrix KNN + FaceNet')\n",
    "plt.show()\n",
    "\n",
    "# Classification report & akurasi\n",
    "print(\"Classification Report:\\n\", classification_report(y_test, y_pred))\n",
    "print(\"Akurasi test set: {:.2f}%\".format(knn.score(X_test, y_test)*100))\n"
   ]
  },
  {
   "cell_type": "code",
   "execution_count": null,
   "id": "750a0fe8",
   "metadata": {},
   "outputs": [],
   "source": []
  }
 ],
 "metadata": {
  "kernelspec": {
   "display_name": "Python 3",
   "language": "python",
   "name": "python3"
  },
  "language_info": {
   "codemirror_mode": {
    "name": "ipython",
    "version": 3
   },
   "file_extension": ".py",
   "mimetype": "text/x-python",
   "name": "python",
   "nbconvert_exporter": "python",
   "pygments_lexer": "ipython3",
   "version": "3.8.10"
  }
 },
 "nbformat": 4,
 "nbformat_minor": 5
}
